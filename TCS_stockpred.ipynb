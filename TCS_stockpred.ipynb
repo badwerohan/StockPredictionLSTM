{
 "cells": [
  {
   "cell_type": "code",
   "execution_count": 1,
   "metadata": {
    "collapsed": true,
    "pycharm": {
     "is_executing": false
    }
   },
   "outputs": [],
   "source": [
    "\n",
    "\n",
    "import numpy as np\n",
    "import tensorflow as tf\n",
    "import pandas as pd\n",
    "import matplotlib.pyplot as plt\n",
    "from sklearn.preprocessing import StandardScaler\n",
    "%matplotlib inline"
   ]
  },
  {
   "cell_type": "code",
   "execution_count": 3,
   "metadata": {
    "pycharm": {
     "is_executing": false,
     "name": "#%%\n"
    }
   },
   "outputs": [],
   "source": [
    "stocks = pd.read_csv('TCS.csv')\n"
   ]
  },
  {
   "cell_type": "code",
   "execution_count": 11,
   "metadata": {
    "pycharm": {
     "is_executing": false,
     "name": "#%%\n"
    }
   },
   "outputs": [
    {
     "data": {
      "text/html": [
       "<div>\n",
       "<style scoped>\n",
       "    .dataframe tbody tr th:only-of-type {\n",
       "        vertical-align: middle;\n",
       "    }\n",
       "\n",
       "    .dataframe tbody tr th {\n",
       "        vertical-align: top;\n",
       "    }\n",
       "\n",
       "    .dataframe thead th {\n",
       "        text-align: right;\n",
       "    }\n",
       "</style>\n",
       "<table border=\"1\" class=\"dataframe\">\n",
       "  <thead>\n",
       "    <tr style=\"text-align: right;\">\n",
       "      <th></th>\n",
       "      <th>Unnamed: 0</th>\n",
       "      <th>Date</th>\n",
       "      <th>Low</th>\n",
       "      <th>High</th>\n",
       "      <th>Close</th>\n",
       "      <th>Open</th>\n",
       "    </tr>\n",
       "  </thead>\n",
       "  <tbody>\n",
       "    <tr>\n",
       "      <th>1255</th>\n",
       "      <td>4</td>\n",
       "      <td>2013-11-07</td>\n",
       "      <td>34.120</td>\n",
       "      <td>36.80</td>\n",
       "      <td>35.31</td>\n",
       "      <td>36.80</td>\n",
       "    </tr>\n",
       "    <tr>\n",
       "      <th>1256</th>\n",
       "      <td>3</td>\n",
       "      <td>2013-11-06</td>\n",
       "      <td>35.610</td>\n",
       "      <td>36.49</td>\n",
       "      <td>35.90</td>\n",
       "      <td>35.61</td>\n",
       "    </tr>\n",
       "    <tr>\n",
       "      <th>1257</th>\n",
       "      <td>2</td>\n",
       "      <td>2013-11-05</td>\n",
       "      <td>34.821</td>\n",
       "      <td>35.50</td>\n",
       "      <td>35.35</td>\n",
       "      <td>35.11</td>\n",
       "    </tr>\n",
       "    <tr>\n",
       "      <th>1258</th>\n",
       "      <td>1</td>\n",
       "      <td>2013-11-04</td>\n",
       "      <td>34.690</td>\n",
       "      <td>36.80</td>\n",
       "      <td>35.35</td>\n",
       "      <td>36.80</td>\n",
       "    </tr>\n",
       "    <tr>\n",
       "      <th>1259</th>\n",
       "      <td>0</td>\n",
       "      <td>2013-11-01</td>\n",
       "      <td>32.100</td>\n",
       "      <td>37.00</td>\n",
       "      <td>36.20</td>\n",
       "      <td>35.00</td>\n",
       "    </tr>\n",
       "  </tbody>\n",
       "</table>\n",
       "</div>"
      ],
      "text/plain": [
       "      Unnamed: 0        Date     Low   High  Close   Open\n",
       "1255           4  2013-11-07  34.120  36.80  35.31  36.80\n",
       "1256           3  2013-11-06  35.610  36.49  35.90  35.61\n",
       "1257           2  2013-11-05  34.821  35.50  35.35  35.11\n",
       "1258           1  2013-11-04  34.690  36.80  35.35  36.80\n",
       "1259           0  2013-11-01  32.100  37.00  36.20  35.00"
      ]
     },
     "execution_count": 11,
     "metadata": {},
     "output_type": "execute_result"
    }
   ],
   "source": [
    "stocks.tail()"
   ]
  },
  {
   "cell_type": "code",
   "execution_count": 66,
   "metadata": {
    "pycharm": {
     "is_executing": false,
     "name": "#%%\n"
    }
   },
   "outputs": [
    {
     "name": "stderr",
     "output_type": "stream",
     "text": [
      "c:\\users\\rohan\\appdata\\local\\programs\\python\\python37\\lib\\site-packages\\ipykernel_launcher.py:5: FutureWarning: `Series.plot()` should not be called with positional arguments, only keyword arguments. The order of positional arguments will change in the future. Use `Series.plot(kind='density')` instead of `Series.plot('density',)`.\n",
      "  \"\"\"\n"
     ]
    },
    {
     "data": {
      "text/plain": [
       "<matplotlib.axes._subplots.AxesSubplot at 0x1c8b82f9308>"
      ]
     },
     "execution_count": 66,
     "metadata": {},
     "output_type": "execute_result"
    },
    {
     "data": {
      "image/png": "[encoded data removed]",
      "text/plain": [
       "<Figure size 432x288 with 1 Axes>"
      ]
     },
     "metadata": {
      "needs_background": "light"
     },
     "output_type": "display_data"
    }
   ],
   "source": [
    "data_to_use = stocks['Close'].values\n",
    "\n",
    "# stocks from 1 nov 2013 to 1 nov 2018 \n",
    "\n",
    "stocks['Close'].plot('density',color='Red')\n"
   ]
  },
  {
   "cell_type": "code",
   "execution_count": 67,
   "metadata": {
    "pycharm": {
     "is_executing": false,
     "name": "#%%\n"
    }
   },
   "outputs": [
    {
     "data": {
      "text/plain": [
       "<matplotlib.axes._subplots.AxesSubplot at 0x1c8b85285c8>"
      ]
     },
     "execution_count": 67,
     "metadata": {},
     "output_type": "execute_result"
    },
    {
     "data": {
      "image/png": "[encoded data removed]",
      "text/plain": [
       "<Figure size 432x288 with 1 Axes>"
      ]
     },
     "metadata": {
      "needs_background": "light"
     },
     "output_type": "display_data"
    }
   ],
   "source": [
    "data_to_use\n",
    "\n",
    "stocks.boxplot(column='Close')\n",
    "\n",
    "# "
   ]
  },
  {
   "cell_type": "code",
   "execution_count": 68,
   "metadata": {
    "pycharm": {
     "is_executing": false,
     "name": "#%%\n"
    }
   },
   "outputs": [
    {
     "name": "stdout",
     "output_type": "stream",
     "text": [
      "Total number of days in the dataset: 1260\n"
     ]
    },
    {
     "data": {
      "text/plain": [
       "<matplotlib.axes._subplots.AxesSubplot at 0x1c8b8895e48>"
      ]
     },
     "execution_count": 68,
     "metadata": {},
     "output_type": "execute_result"
    },
    {
     "data": {
      "image/png": "[encoded data removed]",
      "text/plain": [
       "<Figure size 432x288 with 1 Axes>"
      ]
     },
     "metadata": {
      "needs_background": "light"
     },
     "output_type": "display_data"
    }
   ],
   "source": [
    "print('Total number of days in the dataset: {}'.format(len(data_to_use)))\n",
    "# 1260 days \n",
    "\n",
    "# visualize data \n",
    "stocks['Close'].hist(bins=50)\n"
   ]
  },
  {
   "cell_type": "code",
   "execution_count": 9,
   "metadata": {
    "pycharm": {
     "is_executing": false,
     "name": "#%%\n"
    }
   },
   "outputs": [
    {
     "name": "stdout",
     "output_type": "stream",
     "text": [
      "[-0.3423581]\n"
     ]
    }
   ],
   "source": [
    "scaler = StandardScaler()\n",
    "# creates an array of arrays [ [1] , [2] ,..]\n",
    "# and \n",
    "scaled_dataset = scaler.fit_transform(data_to_use.reshape(-1, 1))\n",
    "print(scaled_dataset[3])\n"
   ]
  },
  {
   "cell_type": "code",
   "execution_count": 1,
   "metadata": {
    "pycharm": {
     "is_executing": false,
     "name": "#%%\n"
    }
   },
   "outputs": [
    {
     "traceback": [
      "\u001b[1;31m---------------------------------------------------------------------------\u001b[0m",
      "\u001b[1;31mNameError\u001b[0m                                 Traceback (most recent call last)",
      "\u001b[1;32m<ipython-input-1-9f61c7ad7edd>\u001b[0m in \u001b[0;36m<module>\u001b[1;34m\u001b[0m\n\u001b[1;32m----> 1\u001b[1;33m \u001b[0mplt\u001b[0m\u001b[1;33m.\u001b[0m\u001b[0mfigure\u001b[0m\u001b[1;33m(\u001b[0m\u001b[0mfigsize\u001b[0m\u001b[1;33m=\u001b[0m\u001b[1;33m(\u001b[0m\u001b[1;36m12\u001b[0m\u001b[1;33m,\u001b[0m\u001b[1;36m7\u001b[0m\u001b[1;33m)\u001b[0m\u001b[1;33m,\u001b[0m \u001b[0mframeon\u001b[0m\u001b[1;33m=\u001b[0m\u001b[1;32mFalse\u001b[0m\u001b[1;33m,\u001b[0m \u001b[0mfacecolor\u001b[0m\u001b[1;33m=\u001b[0m\u001b[1;34m'brown'\u001b[0m\u001b[1;33m,\u001b[0m \u001b[0medgecolor\u001b[0m\u001b[1;33m=\u001b[0m\u001b[1;34m'blue'\u001b[0m\u001b[1;33m)\u001b[0m\u001b[1;33m\u001b[0m\u001b[1;33m\u001b[0m\u001b[0m\n\u001b[0m\u001b[0;32m      2\u001b[0m \u001b[0mplt\u001b[0m\u001b[1;33m.\u001b[0m\u001b[0mtitle\u001b[0m\u001b[1;33m(\u001b[0m\u001b[1;34m'Scaled TCS stocks from August 2014 to August 2018'\u001b[0m\u001b[1;33m)\u001b[0m\u001b[1;33m\u001b[0m\u001b[1;33m\u001b[0m\u001b[0m\n\u001b[0;32m      3\u001b[0m \u001b[0mplt\u001b[0m\u001b[1;33m.\u001b[0m\u001b[0mxlabel\u001b[0m\u001b[1;33m(\u001b[0m\u001b[1;34m'Days'\u001b[0m\u001b[1;33m)\u001b[0m\u001b[1;33m\u001b[0m\u001b[1;33m\u001b[0m\u001b[0m\n\u001b[0;32m      4\u001b[0m \u001b[0mplt\u001b[0m\u001b[1;33m.\u001b[0m\u001b[0mylabel\u001b[0m\u001b[1;33m(\u001b[0m\u001b[1;34m'Scaled value of stocks'\u001b[0m\u001b[1;33m)\u001b[0m\u001b[1;33m\u001b[0m\u001b[1;33m\u001b[0m\u001b[0m\n\u001b[0;32m      5\u001b[0m \u001b[0mplt\u001b[0m\u001b[1;33m.\u001b[0m\u001b[0mplot\u001b[0m\u001b[1;33m(\u001b[0m\u001b[0mscaled_dataset\u001b[0m\u001b[1;33m,\u001b[0m \u001b[0mlabel\u001b[0m\u001b[1;33m=\u001b[0m\u001b[1;34m'Stocks data'\u001b[0m\u001b[1;33m)\u001b[0m\u001b[1;33m\u001b[0m\u001b[1;33m\u001b[0m\u001b[0m\n",
      "\u001b[1;31mNameError\u001b[0m: name 'plt' is not defined"
     ],
     "ename": "NameError",
     "evalue": "name 'plt' is not defined",
     "output_type": "error"
    }
   ],
   "source": [
    "plt.figure(figsize=(12,7), frameon=False, facecolor='brown', edgecolor='blue')\n",
    "plt.title('Scaled TCS stocks from August 2014 to August 2018')\n",
    "plt.xlabel('Days')\n",
    "plt.ylabel('Scaled value of stocks')\n",
    "plt.plot(scaled_dataset, label='Stocks data')\n",
    "plt.legend()\n",
    "plt.show()\n"
   ]
  },
  {
   "cell_type": "code",
   "execution_count": 13,
   "metadata": {
    "pycharm": {
     "is_executing": false,
     "name": "#%%\n"
    }
   },
   "outputs": [],
   "source": [
    "# data window for \n",
    "def window_data(data, window_size):\n",
    "    X = []\n",
    "    y = []\n",
    "    \n",
    "    i = 0\n",
    "    while (i + window_size) <= len(data) - 1:\n",
    "        X.append(data[i:i+window_size])\n",
    "        y.append(data[i+window_size])\n",
    "        \n",
    "        i += 1\n",
    "    assert len(X) ==  len(y)\n",
    "    return X, y\n",
    "\n",
    "X, y = window_data(scaled_dataset, 7)"
   ]
  },
  {
   "cell_type": "code",
   "execution_count": 20,
   "metadata": {
    "pycharm": {
     "is_executing": false,
     "name": "#%%\n"
    }
   },
   "outputs": [
    {
     "data": {
      "text/plain": [
       "array([[-0.3423581 ],\n",
       "       [-0.35400194],\n",
       "       [-0.34332842],\n",
       "       [-0.35400194],\n",
       "       [-0.29287179],\n",
       "       [-0.31712978],\n",
       "       [-0.32198138]])"
      ]
     },
     "execution_count": 20,
     "metadata": {},
     "output_type": "execute_result"
    }
   ],
   "source": [
    "# X has 0 - 6 stock elem upper bound non inclusive\n",
    "X[3]"
   ]
  },
  {
   "cell_type": "code",
   "execution_count": 21,
   "metadata": {
    "pycharm": {
     "is_executing": false,
     "name": "#%%\n"
    }
   },
   "outputs": [
    {
     "data": {
      "text/plain": [
       "array([-0.27346539])"
      ]
     },
     "execution_count": 21,
     "metadata": {},
     "output_type": "execute_result"
    }
   ],
   "source": [
    "# the last element is stored in y \n",
    "y[3]"
   ]
  },
  {
   "cell_type": "code",
   "execution_count": 24,
   "metadata": {
    "pycharm": {
     "is_executing": false,
     "name": "#%%\n"
    }
   },
   "outputs": [
    {
     "name": "stdout",
     "output_type": "stream",
     "text": [
      "X_train size: (1172, 7, 1)\n",
      "y_train size: (1172, 1)\n",
      "X_test size: (81, 7, 1)\n",
      "y_test size: (81, 1)\n"
     ]
    }
   ],
   "source": [
    "# Have taken 7 percent of dataet (1172  days) as testing rest is training  ( ~81 days) \n",
    "# taken by approximation \n",
    "X_train  = np.array(X[:1172])\n",
    "y_train = np.array(y[:1172])\n",
    "\n",
    "X_test = np.array(X[1172:])\n",
    "y_test = np.array(y[1172:])\n",
    "\n",
    "print(\"X_train size: {}\".format(X_train.shape))\n",
    "print(\"y_train size: {}\".format(y_train.shape))\n",
    "print(\"X_test size: {}\".format(X_test.shape))\n",
    "print(\"y_test size: {}\".format(y_test.shape))\n"
   ]
  },
  {
   "cell_type": "code",
   "execution_count": 26,
   "metadata": {
    "pycharm": {
     "is_executing": false,
     "name": "#%%\n"
    }
   },
   "outputs": [
    {
     "name": "stdout",
     "output_type": "stream",
     "text": [
      "WARNING:tensorflow:\n",
      "The TensorFlow contrib module will not be included in TensorFlow 2.0.\n",
      "For more information, please see:\n",
      "  * https://github.com/tensorflow/community/blob/master/rfcs/20180907-contrib-sunset.md\n",
      "  * https://github.com/tensorflow/addons\n",
      "  * https://github.com/tensorflow/io (for I/O related ops)\n",
      "If you depend on functionality not listed there, please file an issue.\n",
      "\n",
      "WARNING:tensorflow:From <ipython-input-26-ca7be9e97ee9>:6: BasicLSTMCell.__init__ (from tensorflow.python.ops.rnn_cell_impl) is deprecated and will be removed in a future version.\n",
      "Instructions for updating:\n",
      "This class is equivalent as tf.keras.layers.LSTMCell, and will be replaced by that in Tensorflow 2.0.\n",
      "WARNING:tensorflow:From <ipython-input-26-ca7be9e97ee9>:11: MultiRNNCell.__init__ (from tensorflow.python.ops.rnn_cell_impl) is deprecated and will be removed in a future version.\n",
      "Instructions for updating:\n",
      "This class is equivalent as tf.keras.layers.StackedRNNCells, and will be replaced by that in Tensorflow 2.0.\n",
      "WARNING:tensorflow:From <ipython-input-26-ca7be9e97ee9>:59: dynamic_rnn (from tensorflow.python.ops.rnn) is deprecated and will be removed in a future version.\n",
      "Instructions for updating:\n",
      "Please use `keras.layers.RNN(cell)`, which is equivalent to this API\n",
      "WARNING:tensorflow:From c:\\users\\rohan\\appdata\\local\\programs\\python\\python37\\lib\\site-packages\\tensorflow_core\\python\\ops\\rnn_cell_impl.py:735: Layer.add_variable (from tensorflow.python.keras.engine.base_layer) is deprecated and will be removed in a future version.\n",
      "Instructions for updating:\n",
      "Please use `layer.add_weight` method instead.\n",
      "WARNING:tensorflow:From c:\\users\\rohan\\appdata\\local\\programs\\python\\python37\\lib\\site-packages\\tensorflow_core\\python\\ops\\rnn_cell_impl.py:739: calling Zeros.__init__ (from tensorflow.python.ops.init_ops) with dtype is deprecated and will be removed in a future version.\n",
      "Instructions for updating:\n",
      "Call initializer instance with the dtype argument instead of passing it to the constructor\n",
      "Tensor(\"strided_slice:0\", shape=(7, 512), dtype=float32)\n",
      "WARNING:tensorflow:From c:\\users\\rohan\\appdata\\local\\programs\\python\\python37\\lib\\site-packages\\tensorflow_core\\python\\ops\\math_grad.py:1375: where (from tensorflow.python.ops.array_ops) is deprecated and will be removed in a future version.\n",
      "Instructions for updating:\n",
      "Use tf.where in 2.0, which has the same broadcast rule as np.where\n"
     ]
    }
   ],
   "source": [
    "epochs = 200  #the whle dataset will pass through the model (RNN )200 times \n",
    "batch_size = 7 # difficult to fit the whole model at once hence we divide it into batches of 7 \n",
    "\n",
    "\n",
    "# initialize an LSTM cell \n",
    "def LSTM_cell(hidden_layer_size, batch_size,number_of_layers, dropout=True, dropout_rate=0.8): # 0.8 dropout for preventing overfitting \n",
    "    \n",
    "    layer = tf.contrib.rnn.BasicLSTMCell(hidden_layer_size) \n",
    "    # Basic  creates a LSTM layer and instantiates variables for all gates.\n",
    "    \n",
    "    if dropout:\n",
    "        layer = tf.contrib.rnn.DropoutWrapper(layer, output_keep_prob=dropout_rate) \n",
    "        #Operator adding dropout to inputs and outputs of the given cell. \n",
    "\n",
    "     # stacking multiple RNN cells \n",
    "    cell = tf.contrib.rnn.MultiRNNCell([layer]*number_of_layers)\n",
    "     # initializer of statw of all RNN cells\n",
    "    \n",
    "    init_state = cell.zero_state(batch_size, tf.float32)\n",
    "    \n",
    "    return cell, init_state\n",
    "\n",
    "\n",
    "\n",
    "def output_layer(lstm_output, in_size, out_size):\n",
    "    \n",
    "    x = lstm_output[:, -1, :] #start, stop, step \n",
    "    print(x)\n",
    "    weights = tf.Variable(tf.truncated_normal([in_size, out_size], stddev=0.05), name='output_layer_weights')\n",
    "    bias = tf.Variable(tf.zeros([out_size]), name='output_layer_bias') # set bias shifting the acticvation fucntion as desired \n",
    "    \n",
    "    output = tf.matmul(x, weights) + bias # output is  ( x * weight) +bias  # main function of LSTM \n",
    "    return output\n",
    "\n",
    "\n",
    "\n",
    "\n",
    "def opt_loss(logits, targets, learning_rate, grad_clip_margin):\n",
    "    \n",
    "    losses = []\n",
    "    for i in range(targets.get_shape()[0]):\n",
    "        losses.append([(tf.pow(logits[i] - targets[i], 2))])\n",
    "        \n",
    "    loss = tf.reduce_sum(losses)/(2*batch_size)\n",
    "    \n",
    "    # we are using adam optimizer \n",
    "    #Cliping the gradient loss\n",
    "    gradients = tf.gradients(loss, tf.trainable_variables())\n",
    "    clipper_, _ = tf.clip_by_global_norm(gradients, grad_clip_margin)\n",
    "    optimizer = tf.train.AdamOptimizer(learning_rate)\n",
    "    train_optimizer = optimizer.apply_gradients(zip(gradients, tf.trainable_variables()))\n",
    "    return loss, train_optimizer\n",
    "\n",
    "\n",
    "\n",
    "class StockPredictionRNN(object):\n",
    "    \n",
    "    def __init__(self, learning_rate=0.001, batch_size=7, hidden_layer_size=512, number_of_layers=1, \n",
    "                 dropout=True, dropout_rate=0.8, number_of_classes=1, gradient_clip_margin=4, window_size=7): # learning rate is kept low due to the graph of stock being sensitive  and not a standard curve . \n",
    "      # placeholders are non trainable vectors ( eg i/p o/p not bias wt's )\n",
    "        self.inputs = tf.placeholder(tf.float32, [batch_size, window_size, 1], name='input_data')\n",
    "        self.targets = tf.placeholder(tf.float32, [batch_size, 1], name='targets')\n",
    "         \n",
    "         # initialize the cells \n",
    "        cell, init_state = LSTM_cell(hidden_layer_size, batch_size, number_of_layers, dropout, dropout_rate)\n",
    "\n",
    "        outputs, states = tf.nn.dynamic_rnn(cell, self.inputs, initial_state=init_state)\n",
    "        \n",
    "         # logits are probablity outputs \n",
    "        self.logits = output_layer(outputs, hidden_layer_size, number_of_classes)\n",
    "        \n",
    "        # calculate loss and opt at each epoch using curr output logits \n",
    "        self.loss, self.opt = opt_loss(self.logits, self.targets, learning_rate, gradient_clip_margin)\n",
    "\n",
    "\n",
    "# reset the network \n",
    "tf.reset_default_graph()\n",
    "model = StockPredictionRNN()\n",
    "#attach model variable to the RNN/LSTM \n"
   ]
  },
  {
   "cell_type": "markdown",
   "metadata": {
    "pycharm": {
     "name": "#%% md\n"
    }
   },
   "source": [
    "Training \n"
   ]
  },
  {
   "cell_type": "code",
   "execution_count": 27,
   "metadata": {
    "pycharm": {
     "is_executing": false,
     "name": "#%%\n"
    }
   },
   "outputs": [
    {
     "name": "stdout",
     "output_type": "stream",
     "text": [
      "Epoch 0/200  Current loss: 0.011550737544894218\n",
      "Epoch 30/200  Current loss: 0.0025001929607242346\n",
      "Epoch 60/200  Current loss: 0.002245329087600112\n",
      "Epoch 90/200  Current loss: 0.0020508889574557543\n",
      "Epoch 120/200  Current loss: 0.0021185646764934063\n",
      "Epoch 150/200  Current loss: 0.00192491733469069\n",
      "Epoch 180/200  Current loss: 0.0018824499566107988\n"
     ]
    }
   ],
   "source": [
    "session =  tf.Session()\n",
    "\n",
    "\n",
    "session.run(tf.global_variables_initializer())\n",
    "\n",
    "for i in range(epochs): \n",
    "    traind_scores = []\n",
    "    ii = 0\n",
    "    epoch_loss = []\n",
    "    while(ii + batch_size) <= len(X_train):\n",
    "        X_batch = X_train[ii:ii+batch_size] # give data batch wise to the model \n",
    "        y_batch = y_train[ii:ii+batch_size]\n",
    "        \n",
    "        o, c, _ = session.run([model.logits, model.loss, model.opt], feed_dict={model.inputs:X_batch, model.targets:y_batch})\n",
    "        \n",
    "        epoch_loss.append(c)\n",
    "        traind_scores.append(o)\n",
    "        ii += batch_size\n",
    "    if (i % 30) == 0:\n",
    "        print('Epoch {}/{}'.format(i, epochs), ' Current loss: {}'.format(np.mean(epoch_loss)))"
   ]
  },
  {
   "cell_type": "code",
   "execution_count": 37,
   "metadata": {
    "pycharm": {
     "is_executing": false,
     "name": "#%%\n"
    }
   },
   "outputs": [],
   "source": [
    "sup =[]  # training data for later graph plot \n",
    "for i in range(len(traind_scores)):\n",
    "    for j in range(len(traind_scores[i])):\n",
    "        sup.append(traind_scores[i][j])\n",
    "\n",
    "tests = []\n",
    "i = 0\n",
    "\n",
    "# fill tests[] with preducted data \n",
    "while i+batch_size <= len(X_test):\n",
    "    \n",
    "    o = session.run([model.logits], feed_dict={model.inputs:X_test[i:i+batch_size]})\n",
    "    i += batch_size\n",
    "    tests.append(o)\n",
    "\n",
    "\n",
    "tests_new = []\n",
    "for i in range(len(tests)):\n",
    "    for j in range(len(tests[i][0])):\n",
    "        tests_new.append(tests[i][0][j])\n",
    "\n",
    "test_results = []\n",
    "for i in range(1250):\n",
    "    if i >= 1173:\n",
    "        test_results.append(tests_new[i-1173])\n",
    "    else:\n",
    "        test_results.append(None)\n"
   ]
  },
  {
   "cell_type": "code",
   "execution_count": 69,
   "metadata": {
    "pycharm": {
     "is_executing": false,
     "name": "#%%\n"
    }
   },
   "outputs": [
    {
     "data": {
      "image/png": "[encoded data removed]",
      "text/plain": [
       "<Figure size 1152x504 with 1 Axes>"
      ]
     },
     "metadata": {
      "needs_background": "light"
     },
     "output_type": "display_data"
    }
   ],
   "source": [
    "plt.figure(figsize=(16, 7))\n",
    "plt.plot(scaled_dataset, label='Original data')\n",
    "plt.plot(sup, label='Training data')\n",
    "plt.plot(test_results, label='Testing data')\n",
    "plt.legend()\n",
    "plt.show()"
   ]
  },
  {
   "cell_type": "code",
   "execution_count": 56,
   "metadata": {
    "pycharm": {
     "is_executing": false,
     "name": "#%%\n"
    }
   },
   "outputs": [],
   "source": []
  },
  {
   "cell_type": "code",
   "execution_count": 56,
   "metadata": {
    "pycharm": {
     "is_executing": false,
     "name": "#%%\n"
    }
   },
   "outputs": [],
   "source": []
  },
  {
   "cell_type": "code",
   "execution_count": null,
   "metadata": {
    "pycharm": {
     "name": "#%%\n"
    }
   },
   "outputs": [],
   "source": [
    "\n"
   ]
  }
 ],
 "metadata": {
  "kernelspec": {
   "display_name": "Python 3",
   "language": "python",
   "name": "python3"
  },
  "language_info": {
   "codemirror_mode": {
    "name": "ipython",
    "version": 3
   },
   "file_extension": ".py",
   "mimetype": "text/x-python",
   "name": "python",
   "nbconvert_exporter": "python",
   "pygments_lexer": "ipython3",
   "version": "3.7.4"
  },
  "pycharm": {
   "stem_cell": {
    "cell_type": "raw",
    "metadata": {
     "collapsed": false
    },
    "source": []
   }
  }
 },
 "nbformat": 4,
 "nbformat_minor": 1
}